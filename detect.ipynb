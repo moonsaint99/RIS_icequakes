{
 "cells": [
  {
   "cell_type": "code",
   "id": "initial_id",
   "metadata": {
    "collapsed": true,
    "ExecuteTime": {
     "end_time": "2025-05-01T03:31:06.114606Z",
     "start_time": "2025-05-01T03:31:01.843554Z"
    }
   },
   "source": [
    "from detection.iterator import iterate_all, get_all_traces\n",
    "from download.otf import process_otf\n",
    "import obspy as op\n",
    "from obspy.signal.trigger import plot_trigger, recursive_sta_lta, trigger_onset\n",
    "import os\n",
    "import numpy as np\n",
    "\n",
    "tr_demo = op.read('outputs/raw_data_cache/20150115/XH_DR14/HHZ.mseed')[0]\n",
    "\n",
    "# STA/LTA detector\n",
    "def detect_stalta(tr = op.Trace):\n",
    "    output_path = 'outputs/stalta_detections/'\n",
    "    date = tr.stats.starttime.strftime('%Y%m%d')\n",
    "    sta_name = tr.stats.station\n",
    "    out_file = os.path.join(output_path, f'{date}/{sta_name}.csv')\n",
    "    os.makedirs(os.path.dirname(out_file), exist_ok=True)\n",
    "\n",
    "    tr = process_otf(tr, fs=50, pre_filt=[4, 5, 20, 22])\n",
    "\n",
    "    # tr.trigger('classicstalta', sta=0.5, lta=10.0)\n",
    "    out = recursive_sta_lta(tr.data, int(2 * tr.stats.sampling_rate), int(60.0 * tr.stats.sampling_rate))\n",
    "    # plot_trigger(tr, out, 10, 8)\n",
    "    onsets = trigger_onset(out,11, 8, 10)\n",
    "    np.savetxt(out_file, onsets, delimiter=',')\n",
    "    return onsets\n",
    "\n",
    "def detect_stalta_fromtracepath(trace_path):\n",
    "    tr = op.read(trace_path)[0]\n",
    "    return detect_stalta(tr)\n",
    "\n",
    "onsets = detect_stalta(tr_demo)"
   ],
   "outputs": [],
   "execution_count": 2
  },
  {
   "metadata": {
    "ExecuteTime": {
     "end_time": "2025-05-01T05:07:43.029748Z",
     "start_time": "2025-05-01T05:07:41.920851Z"
    }
   },
   "cell_type": "code",
   "source": [
    "import multiprocessing as mp\n",
    "from detection.stalta import detect_stalta_fromtracepath\n",
    "from detection.iterator import get_all_traces, get_incomplete_traces\n",
    "\n",
    "trace_list = get_incomplete_traces()\n",
    "mp.freeze_support()\n",
    "p = mp.Pool(processes = mp.cpu_count())\n",
    "for result in p.imap_unordered(detect_stalta_fromtracepath, trace_list):\n",
    "    # print(result)\n",
    "    pass\n",
    "p.close()\n",
    "p.join()"
   ],
   "id": "3af72fa62acf15a1",
   "outputs": [
    {
     "ename": "Exception",
     "evalue": "ERROR 1 stalta: len(data) < nlta",
     "output_type": "error",
     "traceback": [
      "\u001B[31m---------------------------------------------------------------------------\u001B[39m",
      "\u001B[31mRemoteTraceback\u001B[39m                           Traceback (most recent call last)",
      "\u001B[31mRemoteTraceback\u001B[39m: \n\"\"\"\nTraceback (most recent call last):\n  File \"/Library/Frameworks/Python.framework/Versions/3.12/lib/python3.12/multiprocessing/pool.py\", line 125, in worker\n    result = (True, func(*args, **kwds))\n                    ^^^^^^^^^^^^^^^^^^^\n  File \"/Users/rishi/seis/RIS_icequakes/detection/stalta.py\", line 26, in detect_stalta_fromtracepath\n    return detect_stalta(tr)\n           ^^^^^^^^^^^^^^^^^\n  File \"/Users/rishi/seis/RIS_icequakes/detection/stalta.py\", line 13, in detect_stalta\n    cft = classic_sta_lta(tr.data,\n          ^^^^^^^^^^^^^^^^^^^^^^^^\n  File \"/Users/rishi/seis/RIS_icequakes/.venv/lib/python3.12/site-packages/obspy/signal/trigger.py\", line 189, in classic_sta_lta\n    raise Exception('ERROR %d stalta: len(data) < nlta' % errcode)\nException: ERROR 1 stalta: len(data) < nlta\n\"\"\"",
      "\nThe above exception was the direct cause of the following exception:\n",
      "\u001B[31mException\u001B[39m                                 Traceback (most recent call last)",
      "\u001B[36mCell\u001B[39m\u001B[36m \u001B[39m\u001B[32mIn[4]\u001B[39m\u001B[32m, line 8\u001B[39m\n\u001B[32m      6\u001B[39m mp.freeze_support()\n\u001B[32m      7\u001B[39m p = mp.Pool(processes = mp.cpu_count())\n\u001B[32m----> \u001B[39m\u001B[32m8\u001B[39m \u001B[38;5;28;43;01mfor\u001B[39;49;00m\u001B[43m \u001B[49m\u001B[43mresult\u001B[49m\u001B[43m \u001B[49m\u001B[38;5;129;43;01min\u001B[39;49;00m\u001B[43m \u001B[49m\u001B[43mp\u001B[49m\u001B[43m.\u001B[49m\u001B[43mimap_unordered\u001B[49m\u001B[43m(\u001B[49m\u001B[43mdetect_stalta_fromtracepath\u001B[49m\u001B[43m,\u001B[49m\u001B[43m \u001B[49m\u001B[43mtrace_list\u001B[49m\u001B[43m)\u001B[49m\u001B[43m:\u001B[49m\n\u001B[32m      9\u001B[39m \u001B[43m    \u001B[49m\u001B[38;5;66;43;03m# print(result)\u001B[39;49;00m\n\u001B[32m     10\u001B[39m \u001B[43m    \u001B[49m\u001B[38;5;28;43;01mpass\u001B[39;49;00m\n\u001B[32m     11\u001B[39m p.close()\n",
      "\u001B[36mFile \u001B[39m\u001B[32m/Library/Frameworks/Python.framework/Versions/3.12/lib/python3.12/multiprocessing/pool.py:873\u001B[39m, in \u001B[36mIMapIterator.next\u001B[39m\u001B[34m(self, timeout)\u001B[39m\n\u001B[32m    871\u001B[39m \u001B[38;5;28;01mif\u001B[39;00m success:\n\u001B[32m    872\u001B[39m     \u001B[38;5;28;01mreturn\u001B[39;00m value\n\u001B[32m--> \u001B[39m\u001B[32m873\u001B[39m \u001B[38;5;28;01mraise\u001B[39;00m value\n",
      "\u001B[31mException\u001B[39m: ERROR 1 stalta: len(data) < nlta"
     ]
    }
   ],
   "execution_count": 4
  },
  {
   "metadata": {
    "ExecuteTime": {
     "end_time": "2025-05-01T02:31:30.282920Z",
     "start_time": "2025-05-01T02:30:46.279648Z"
    }
   },
   "cell_type": "code",
   "source": [
    "# demo of network coincidence triggering\n",
    "from obspy.signal.trigger import coincidence_trigger\n",
    "import obspy as op\n",
    "\n",
    "st = op.Stream()\n",
    "files = [\"outputs/raw_data_cache/20150115/XH_DR05/HHZ.mseed\",\n",
    "        \"outputs/raw_data_cache/20150115/XH_DR06/HHZ.mseed\",\n",
    "        \"outputs/raw_data_cache/20150115/XH_DR07/HHZ.mseed\",\n",
    "        \"outputs/raw_data_cache/20150115/XH_DR08/HHZ.mseed\",\n",
    "        \"outputs/raw_data_cache/20150115/XH_DR09/HHZ.mseed\",\n",
    "        \"outputs/raw_data_cache/20150115/XH_DR10/HHZ.mseed\",\n",
    "        \"outputs/raw_data_cache/20150115/XH_DR11/HHZ.mseed\",\n",
    "        \"outputs/raw_data_cache/20150115/XH_DR12/HHZ.mseed\",\n",
    "        \"outputs/raw_data_cache/20150115/XH_DR13/HHZ.mseed\",\n",
    "        \"outputs/raw_data_cache/20150115/XH_DR14/HHZ.mseed\",\n",
    "        \"outputs/raw_data_cache/20150115/XH_RS04/HHZ.mseed\",\n",
    "        \"outputs/raw_data_cache/20150115/XH_RS05/HHZ.mseed\"]\n",
    "\n",
    "for f in files:\n",
    "    tr = op.read(f)[0]\n",
    "    tr_filt = process_otf(tr, fs=50, pre_filt=[4, 5, 20, 22])\n",
    "    st += tr_filt\n",
    "\n",
    "st2 = st.copy()\n",
    "trig = coincidence_trigger('recstalta', 3.5, 1, st2, 3, sta=0.5, lta=10.0)"
   ],
   "id": "943605047231073f",
   "outputs": [],
   "execution_count": 18
  }
 ],
 "metadata": {
  "kernelspec": {
   "display_name": "Python 3",
   "language": "python",
   "name": "python3"
  },
  "language_info": {
   "codemirror_mode": {
    "name": "ipython",
    "version": 2
   },
   "file_extension": ".py",
   "mimetype": "text/x-python",
   "name": "python",
   "nbconvert_exporter": "python",
   "pygments_lexer": "ipython2",
   "version": "2.7.6"
  }
 },
 "nbformat": 4,
 "nbformat_minor": 5
}
